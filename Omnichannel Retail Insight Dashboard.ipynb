{
 "cells": [
  {
   "cell_type": "code",
   "execution_count": null,
   "id": "3e100971",
   "metadata": {},
   "outputs": [],
   "source": [
    "## Omnichannel Retail Insight Dashboard\n",
    "\n"
   ]
  }
 ],
 "metadata": {
  "language_info": {
   "name": "python"
  }
 },
 "nbformat": 4,
 "nbformat_minor": 5
}
